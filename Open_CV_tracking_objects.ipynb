{
  "nbformat": 4,
  "nbformat_minor": 0,
  "metadata": {
    "kernelspec": {
      "display_name": "Python 3",
      "language": "python",
      "name": "python3"
    },
    "language_info": {
      "codemirror_mode": {
        "name": "ipython",
        "version": 3
      },
      "file_extension": ".py",
      "mimetype": "text/x-python",
      "name": "python",
      "nbconvert_exporter": "python",
      "pygments_lexer": "ipython3",
      "version": "3.7.9"
    },
    "colab": {
      "name": "Open_CV_tracking_objects.ipynb",
      "provenance": [],
      "include_colab_link": true
    }
  },
  "cells": [
    {
      "cell_type": "markdown",
      "metadata": {
        "id": "view-in-github",
        "colab_type": "text"
      },
      "source": [
        "<a href=\"https://colab.research.google.com/github/PPythnoni/opencv/blob/master/Open_CV_tracking_objects.ipynb\" target=\"_parent\"><img src=\"https://colab.research.google.com/assets/colab-badge.svg\" alt=\"Open In Colab\"/></a>"
      ]
    },
    {
      "cell_type": "code",
      "metadata": {
        "id": "nHMdI8xdozFP"
      },
      "source": [
        "import cv2"
      ],
      "execution_count": null,
      "outputs": []
    },
    {
      "cell_type": "code",
      "metadata": {
        "id": "Gq3IgOZ3ozFq"
      },
      "source": [
        "tracker = cv2.TrackerCSRT_create()\n",
        "\n",
        "cam = cv2.VideoCapture(0)\n",
        "ret, frame = cam.read()\n",
        "bbox = cv2.selectROI(\"Tracking\",frame, False)\n",
        "tracker.init(frame, bbox)\n",
        "\n",
        "\n",
        "def drawBox(img,bbox):\n",
        "    x, y, w, h = int(bbox[0]), int(bbox[1]), int(bbox[2]), int(bbox[3])\n",
        "    cv2.rectangle(img, (x, y), ((x + w), (y + h)), (255, 0, 255), 3, 3 )\n",
        "    cv2.putText(img, \"Tracking\", (100, 75), cv2.FONT_HERSHEY_SIMPLEX, 0.7, (0, 255, 0), 2)\n",
        " \n",
        "\n",
        "while True:\n",
        "    timer = cv2.getTickCount()\n",
        "    ret, img = cam.read()\n",
        "    ret, bbox = tracker.update(img)\n",
        "\n",
        "    if ret:\n",
        "        drawBox(img,bbox)\n",
        "\n",
        "    else:\n",
        "        cv2.putText(img, \"ERROR\", (100, 75), cv2.FONT_HERSHEY_SIMPLEX, 0.7, (0, 0, 255), 2)\n",
        "\n",
        "    cv2.putText(img, \"Status:\", (20, 75), cv2.FONT_HERSHEY_SIMPLEX, 0.7, (255, 0, 255), 2);\n",
        "\n",
        "    cv2.imshow(\"Tracking\", img)\n",
        "    k = cv2.waitKey(1) & 0xFF\n",
        "    if k == 27:\n",
        "        break\n",
        "    \n",
        "cam.release()\n",
        "cv2.destroyAllWindows()\n"
      ],
      "execution_count": null,
      "outputs": []
    }
  ]
}