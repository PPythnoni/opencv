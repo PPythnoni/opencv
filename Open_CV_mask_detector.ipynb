{
  "nbformat": 4,
  "nbformat_minor": 0,
  "metadata": {
    "kernelspec": {
      "display_name": "Python 3",
      "language": "python",
      "name": "python3"
    },
    "language_info": {
      "codemirror_mode": {
        "name": "ipython",
        "version": 3
      },
      "file_extension": ".py",
      "mimetype": "text/x-python",
      "name": "python",
      "nbconvert_exporter": "python",
      "pygments_lexer": "ipython3",
      "version": "3.7.9"
    },
    "colab": {
      "name": "Open_CV_mask_detector.ipynb",
      "provenance": [],
      "include_colab_link": true
    }
  },
  "cells": [
    {
      "cell_type": "markdown",
      "metadata": {
        "id": "view-in-github",
        "colab_type": "text"
      },
      "source": [
        "<a href=\"https://colab.research.google.com/github/PPythnoni/opencv/blob/master/Open_CV_mask_detector.ipynb\" target=\"_parent\"><img src=\"https://colab.research.google.com/assets/colab-badge.svg\" alt=\"Open In Colab\"/></a>"
      ]
    },
    {
      "cell_type": "code",
      "metadata": {
        "id": "9vs4MjH4oR55",
        "outputId": "8ee6bbc2-0655-446a-8ba8-b0057386cd5a"
      },
      "source": [
        "pip install opencv-python"
      ],
      "execution_count": null,
      "outputs": [
        {
          "output_type": "stream",
          "text": [
            "Requirement already satisfied: opencv-python in c:\\users\\parti\\appdata\\local\\programs\\python\\python37\\lib\\site-packages (4.4.0.46)\n",
            "Requirement already satisfied: numpy>=1.14.5 in c:\\users\\parti\\appdata\\local\\programs\\python\\python37\\lib\\site-packages (from opencv-python) (1.19.4)\n",
            "Note: you may need to restart the kernel to use updated packages.\n"
          ],
          "name": "stdout"
        },
        {
          "output_type": "stream",
          "text": [
            "WARNING: You are using pip version 20.1.1; however, version 21.0.1 is available.\n",
            "You should consider upgrading via the 'c:\\users\\parti\\appdata\\local\\programs\\python\\python37\\python.exe -m pip install --upgrade pip' command.\n"
          ],
          "name": "stderr"
        }
      ]
    },
    {
      "cell_type": "code",
      "metadata": {
        "id": "ITaaHmtzoR6e"
      },
      "source": [
        "import cv2\n",
        "import os"
      ],
      "execution_count": null,
      "outputs": []
    },
    {
      "cell_type": "code",
      "metadata": {
        "id": "7dh5B3UZoR6i",
        "outputId": "a4c3f85b-88d1-43f3-e380-badae5b25be5"
      },
      "source": [
        "data_path = \"C:/Users/parti/Desktop/PY/maskless/imgs\"\n",
        "image_paths = os.listdir(data_path)\n",
        "print(\"image_paths:\",image_paths)"
      ],
      "execution_count": null,
      "outputs": [
        {
          "output_type": "stream",
          "text": [
            "image_paths: ['masked', 'masked_incorrectly', 'unmasked']\n"
          ],
          "name": "stdout"
        }
      ]
    },
    {
      "cell_type": "code",
      "metadata": {
        "id": "CsSlTue0oR6k"
      },
      "source": [
        "face_recognizer = cv2.face.EigenFaceRecognizer_create()"
      ],
      "execution_count": null,
      "outputs": []
    },
    {
      "cell_type": "code",
      "metadata": {
        "id": "SlzahKs9oR6l"
      },
      "source": [
        "face_recognizer.read(\"C:/Users/parti/Desktop/PY/maskless/New_EigenFace_mask_model.xml\")"
      ],
      "execution_count": null,
      "outputs": []
    },
    {
      "cell_type": "code",
      "metadata": {
        "id": "7kSZJXhYoR6n"
      },
      "source": [
        "cam = cv2.VideoCapture(0)\n",
        "width = int(cam.get(cv2.CAP_PROP_FRAME_WIDTH))\n",
        "height = int(cam.get(cv2.CAP_PROP_FRAME_HEIGHT))\n",
        "writer = cv2.VideoWriter(\"maskless_test.mp4\",cv2.VideoWriter_fourcc(*\"DIVX\"),20,(width,height))\n",
        "face_classifier = cv2.CascadeClassifier(cv2.data.haarcascades+'haarcascade_frontalface_default.xml')\n",
        "\n",
        "while True:\n",
        "    ret,frame = cam.read()\n",
        "    writer.write(frame)\n",
        "    if ret == False: break\n",
        "    gray = cv2.cvtColor(frame,cv2.COLOR_BGR2GRAY)\n",
        "    frame_copy = gray.copy()\n",
        "    \n",
        "    faces = face_classifier.detectMultiScale(gray,1.2,5)\n",
        "    \n",
        "    for (x,y,w,h) in faces:\n",
        "        rostro = frame_copy[y:y+h,x:x+w]\n",
        "        rostro = cv2.resize(rostro,(150,150),interpolation=cv2.INTER_CUBIC)\n",
        "        result = face_recognizer.predict(rostro)\n",
        "        \n",
        "        cv2.putText(frame,f\"{result}\",(x,y-5),1,1.2,(255,255,0),1,cv2.LINE_AA)\n",
        "        \n",
        "        #face descrip.\n",
        "        if result[1] < 5700:\n",
        "            \n",
        "            cv2.putText(frame,f\"{image_paths[result[0]]}\",(x,y-25),2,1.1,(0,255,0),1,cv2.LINE_AA)\n",
        "            cv2.rectangle(frame,(x,y),(x+w,y+h),(0,255,0),2)\n",
        "        else:\n",
        "            cv2.putText(frame,f\"NO DETECTION\",(x,y-20),2,0.8,(0,0,255),1,cv2.LINE_AA)\n",
        "            cv2.rectangle(frame,(x,y),(x+w,y+h),(0,0,255),2)\n",
        "        \n",
        "    cv2.imshow(\"frame\",frame)\n",
        "    k = cv2.waitKey(1) & 0xFF\n",
        "    if k == 27:\n",
        "        break\n",
        "        \n",
        "cam.release()\n",
        "writer.release()\n",
        "cv2.destroyAllWindows()\n",
        "        "
      ],
      "execution_count": null,
      "outputs": []
    }
  ]
}